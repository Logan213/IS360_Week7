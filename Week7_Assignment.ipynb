{
 "cells": [
  {
   "cell_type": "markdown",
   "metadata": {},
   "source": [
    "# Importing HTML Tables Into Pandas"
   ]
  },
  {
   "cell_type": "markdown",
   "metadata": {},
   "source": [
    "## Setting up the program\n",
    "Here we are importing the libraries needed to scrape data from a webpage, including urllib2, pandas, and BeautifulSoup.\n",
    "\n",
    "After grabbing the URL and putting it in the object `html`, we pass it into `bsObj`, a BeautifulSoup object:"
   ]
  },
  {
   "cell_type": "code",
   "execution_count": 51,
   "metadata": {
    "collapsed": false
   },
   "outputs": [],
   "source": [
    "import urllib2\n",
    "import pandas as pd\n",
    "import html5lib\n",
    "from pandas import DataFrame\n",
    "from bs4 import BeautifulSoup\n",
    "html = urllib2.urlopen('http://www.pythonscraping.com/pages/page3.html')\n",
    "bsObj = BeautifulSoup(html)"
   ]
  },
  {
   "cell_type": "markdown",
   "metadata": {},
   "source": [
    "## Operating on BeautifulSoup object:\n",
    "\n",
    "Here, we use the `.find()` method to find the tag for a table, with the keywords for \"id=giftlist\".\n",
    "\n",
    "The `.get_text()` is added to the end to strip out all of the html tags to show only the text (and to take up less space in the cell below!)."
   ]
  },
  {
   "cell_type": "code",
   "execution_count": 203,
   "metadata": {
    "collapsed": false
   },
   "outputs": [
    {
     "data": {
      "text/plain": [
       "u'\\n\\nItem Title\\n\\nDescription\\n\\nCost\\n\\nImage\\n\\n\\nVegetable Basket\\n\\nThis vegetable basket is the perfect gift for your health conscious (or overweight) friends!\\nNow with super-colorful bell peppers!\\n\\n$15.00\\n\\n\\n\\n\\nRussian Nesting Dolls\\n\\nHand-painted by trained monkeys, these exquisite dolls are priceless! And by \"priceless,\" we mean \"extremely expensive\"! 8 entire dolls per set! Octuple the presents!\\n\\n$10,000.52\\n\\n\\n\\n\\nFish Painting\\n\\nIf something seems fishy about this painting, it\\'s because it\\'s a fish! Also hand-painted by trained monkeys!\\n\\n$10,005.00\\n\\n\\n\\n\\nDead Parrot\\n\\nThis is an ex-parrot! Or maybe he\\'s only resting?\\n\\n$0.50\\n\\n\\n\\n\\nMystery Box\\n\\nIf you love suprises, this mystery box is for you! Do not place on light-colored surfaces. May cause oil staining. Keep your friends guessing!\\n\\n$1.50\\n\\n\\n\\n'"
      ]
     },
     "execution_count": 203,
     "metadata": {},
     "output_type": "execute_result"
    }
   ],
   "source": [
    "giftable = bsObj.find(\"table\", {\"id\":\"giftList\"}).get_text()\n",
    "giftable"
   ]
  },
  {
   "cell_type": "markdown",
   "metadata": {},
   "source": [
    "### Selecting table rows\n",
    "\n",
    "Instead of selecting the whole table, we can select an individual row.  Here, I have passed the second row (\"id=gift2\") to the object `gift2` by selecting \"tr\" for \"table row\".\n",
    "\n",
    "We can see the content for the second row of the table (item, description, and cost) is returned."
   ]
  },
  {
   "cell_type": "code",
   "execution_count": 163,
   "metadata": {
    "collapsed": false
   },
   "outputs": [
    {
     "name": "stdout",
     "output_type": "stream",
     "text": [
      "\n",
      "Russian Nesting Dolls\n",
      "\n",
      "Hand-painted by trained monkeys, these exquisite dolls are priceless! And by \"priceless,\" we mean \"extremely expensive\"! 8 entire dolls per set! Octuple the presents!\n",
      "\n",
      "$10,000.52\n",
      "\n",
      "\n",
      "\n"
     ]
    }
   ],
   "source": [
    "gift2 = bsObj.find(\"tr\", {\"id\":\"gift2\"}).get_text()\n",
    "print gift2"
   ]
  },
  {
   "cell_type": "markdown",
   "metadata": {},
   "source": [
    "The data type that is passed out is unicode, so operating on objects returned by BeautifulSoup takes a little practice.  Passing the information into a list, dictionary, or tuple is not as direct."
   ]
  },
  {
   "cell_type": "code",
   "execution_count": 204,
   "metadata": {
    "collapsed": false
   },
   "outputs": [
    {
     "data": {
      "text/plain": [
       "unicode"
      ]
     },
     "execution_count": 204,
     "metadata": {},
     "output_type": "execute_result"
    }
   ],
   "source": [
    "type(gift2)"
   ]
  },
  {
   "cell_type": "markdown",
   "metadata": {},
   "source": []
  },
  {
   "cell_type": "code",
   "execution_count": 141,
   "metadata": {
    "collapsed": false
   },
   "outputs": [
    {
     "name": "stdout",
     "output_type": "stream",
     "text": [
      "\n",
      "Russian Nesting Dolls\n",
      "\n"
     ]
    },
    {
     "data": {
      "text/plain": [
       "str"
      ]
     },
     "execution_count": 141,
     "metadata": {},
     "output_type": "execute_result"
    }
   ],
   "source": [
    "r2c1 = bsObj.findAll('table')[0].findAll('tr')[2].findAll('td')[0].get_text()\n",
    "r2c1 = str(r2c1).strip('n\\'')\n",
    "print r2c1\n",
    "type(r2c1)"
   ]
  },
  {
   "cell_type": "markdown",
   "metadata": {},
   "source": [
    "### Siblings of Table Data\n",
    "\n",
    "The code below will print out all of the product rows (tags included).  Similar to the code above, we have selected the table tag with \"id=giftList\".  The `tr.next_siblings` will create an iterable object where the next table row (`tr`) will be returned."
   ]
  },
  {
   "cell_type": "code",
   "execution_count": 206,
   "metadata": {
    "collapsed": false
   },
   "outputs": [
    {
     "name": "stdout",
     "output_type": "stream",
     "text": [
      "\n",
      "\n",
      "<tr class=\"gift\" id=\"gift1\"><td>\n",
      "Vegetable Basket\n",
      "</td><td>\n",
      "This vegetable basket is the perfect gift for your health conscious (or overweight) friends!\n",
      "<span class=\"excitingNote\">Now with super-colorful bell peppers!</span>\n",
      "</td><td>\n",
      "$15.00\n",
      "</td><td>\n",
      "<img src=\"../img/gifts/img1.jpg\"/>\n",
      "</td></tr>\n",
      "\n",
      "\n",
      "<tr class=\"gift\" id=\"gift2\"><td>\n",
      "Russian Nesting Dolls\n",
      "</td><td>\n",
      "Hand-painted by trained monkeys, these exquisite dolls are priceless! And by \"priceless,\" we mean \"extremely expensive\"! <span class=\"excitingNote\">8 entire dolls per set! Octuple the presents!</span>\n",
      "</td><td>\n",
      "$10,000.52\n",
      "</td><td>\n",
      "<img src=\"../img/gifts/img2.jpg\"/>\n",
      "</td></tr>\n",
      "\n",
      "\n",
      "<tr class=\"gift\" id=\"gift3\"><td>\n",
      "Fish Painting\n",
      "</td><td>\n",
      "If something seems fishy about this painting, it's because it's a fish! <span class=\"excitingNote\">Also hand-painted by trained monkeys!</span>\n",
      "</td><td>\n",
      "$10,005.00\n",
      "</td><td>\n",
      "<img src=\"../img/gifts/img3.jpg\"/>\n",
      "</td></tr>\n",
      "\n",
      "\n",
      "<tr class=\"gift\" id=\"gift4\"><td>\n",
      "Dead Parrot\n",
      "</td><td>\n",
      "This is an ex-parrot! <span class=\"excitingNote\">Or maybe he's only resting?</span>\n",
      "</td><td>\n",
      "$0.50\n",
      "</td><td>\n",
      "<img src=\"../img/gifts/img4.jpg\"/>\n",
      "</td></tr>\n",
      "\n",
      "\n",
      "<tr class=\"gift\" id=\"gift5\"><td>\n",
      "Mystery Box\n",
      "</td><td>\n",
      "If you love suprises, this mystery box is for you! Do not place on light-colored surfaces. May cause oil staining. <span class=\"excitingNote\">Keep your friends guessing!</span>\n",
      "</td><td>\n",
      "$1.50\n",
      "</td><td>\n",
      "<img src=\"../img/gifts/img6.jpg\"/>\n",
      "</td></tr>\n",
      "\n",
      "\n"
     ]
    }
   ],
   "source": [
    "for sibling in bsObj.find(\"table\", {\"id\":\"giftList\"}).tr.next_siblings:\n",
    "    print(sibling)"
   ]
  },
  {
   "cell_type": "markdown",
   "metadata": {},
   "source": [
    "## Hacking together a DataFrame\n",
    "\n",
    "Since I had difficulty operating on the BeautifulSoup objects, I decided to do it the way I could make it work:"
   ]
  },
  {
   "cell_type": "markdown",
   "metadata": {},
   "source": [
    "### Selecting a single cell in an HTML table:\n",
    "\n",
    "without calling any parents, children, or descendants, I figured out you can simply select a single cell by slicing the table, then calling `findAll()` on the table row, seleting a slice of that row, and the using `findAll()` again on the table data (`td`).  It's ugly, but doing this I could get each cell individually.\n",
    "\n",
    "Below, you can see the data from the second row (not counting the header), and the second column:"
   ]
  },
  {
   "cell_type": "code",
   "execution_count": 207,
   "metadata": {
    "collapsed": false
   },
   "outputs": [
    {
     "name": "stdout",
     "output_type": "stream",
     "text": [
      "\n",
      "Hand-painted by trained monkeys, these exquisite dolls are priceless! And by \"priceless,\" we mean \"extremely expensive\"! 8 entire dolls per set! Octuple the presents!\n",
      "\n"
     ]
    }
   ],
   "source": [
    "print bsObj.findAll('table')[0].findAll('tr')[2].findAll('td')[1].get_text()"
   ]
  },
  {
   "cell_type": "markdown",
   "metadata": {},
   "source": [
    "Since all of the data is returned as unicode, I transformed it into a string, and then stripped the 'new line' out. This still left blank strings inbetween the words, so I removed them using a list comprehension. \n",
    "\n",
    "Since I did not need the \"Image\" column (the files come up as `NaN`), I removed that from the list."
   ]
  },
  {
   "cell_type": "code",
   "execution_count": 208,
   "metadata": {
    "collapsed": false
   },
   "outputs": [
    {
     "name": "stdout",
     "output_type": "stream",
     "text": [
      "['Item Title', 'Description', 'Cost']\n"
     ]
    }
   ],
   "source": [
    "header = str(bsObj.findAll('table')[0].findAll('tr')[0].get_text()).strip('\\n')\n",
    "header = header.splitlines()\n",
    "header = [x for x in header if x != '']\n",
    "header.remove('Image')\n",
    "print header"
   ]
  },
  {
   "cell_type": "markdown",
   "metadata": {},
   "source": [
    "Okay, this is super ugly. Here is each cell in the table (thankfully, it's a small table), passed into an object named after the location (r1c3 is \"Row 1, Column 3\")."
   ]
  },
  {
   "cell_type": "code",
   "execution_count": 209,
   "metadata": {
    "collapsed": false
   },
   "outputs": [
    {
     "data": {
      "text/plain": [
       "'$1.50'"
      ]
     },
     "execution_count": 209,
     "metadata": {},
     "output_type": "execute_result"
    }
   ],
   "source": [
    "r1c1 = str(bsObj.findAll('table')[0].findAll('tr')[1].findAll('td')[0].get_text()).strip('\\n')\n",
    "r1c2 = str(bsObj.findAll('table')[0].findAll('tr')[1].findAll('td')[1].get_text()).strip('\\n')\n",
    "r1c3 = str(bsObj.findAll('table')[0].findAll('tr')[1].findAll('td')[2].get_text()).strip('\\n')\n",
    "r2c1 = str(bsObj.findAll('table')[0].findAll('tr')[2].findAll('td')[0].get_text()).strip('\\n')\n",
    "r2c2 = str(bsObj.findAll('table')[0].findAll('tr')[2].findAll('td')[1].get_text()).strip('\\n')\n",
    "r2c3 = str(bsObj.findAll('table')[0].findAll('tr')[2].findAll('td')[2].get_text()).strip('\\n')\n",
    "r3c1 = str(bsObj.findAll('table')[0].findAll('tr')[3].findAll('td')[0].get_text()).strip('\\n')\n",
    "r3c2 = str(bsObj.findAll('table')[0].findAll('tr')[3].findAll('td')[1].get_text()).strip('\\n')\n",
    "r3c3 = str(bsObj.findAll('table')[0].findAll('tr')[3].findAll('td')[2].get_text()).strip('\\n')\n",
    "r4c1 = str(bsObj.findAll('table')[0].findAll('tr')[4].findAll('td')[0].get_text()).strip('\\n')\n",
    "r4c2 = str(bsObj.findAll('table')[0].findAll('tr')[4].findAll('td')[1].get_text()).strip('\\n')\n",
    "r4c3 = str(bsObj.findAll('table')[0].findAll('tr')[4].findAll('td')[2].get_text()).strip('\\n')\n",
    "r5c1 = str(bsObj.findAll('table')[0].findAll('tr')[5].findAll('td')[0].get_text()).strip('\\n')\n",
    "r5c2 = str(bsObj.findAll('table')[0].findAll('tr')[5].findAll('td')[1].get_text()).strip('\\n')\n",
    "r5c3 = str(bsObj.findAll('table')[0].findAll('tr')[5].findAll('td')[2].get_text()).strip('\\n')\n",
    "r5c3"
   ]
  },
  {
   "cell_type": "markdown",
   "metadata": {},
   "source": [
    "### Creating Columns\n",
    "\n",
    "Now that I have all of my data as string data types, I can create my DataFrame as I know how to do with my limited experience."
   ]
  },
  {
   "cell_type": "code",
   "execution_count": 194,
   "metadata": {
    "collapsed": false
   },
   "outputs": [],
   "source": [
    "col1 = [r1c1, r2c1, r3c1, r4c1, r5c1]\n",
    "col2 = [r1c2, r2c2, r3c2, r4c2, r5c2]\n",
    "col3 = [r1c3, r2c3, r3c3, r4c3, r5c3]"
   ]
  },
  {
   "cell_type": "markdown",
   "metadata": {},
   "source": [
    "Since we have the columns, we can use the zip function to put them all together into an object named `html_table`."
   ]
  },
  {
   "cell_type": "code",
   "execution_count": 195,
   "metadata": {
    "collapsed": false
   },
   "outputs": [
    {
     "name": "stdout",
     "output_type": "stream",
     "text": [
      "[('Vegetable Basket', 'This vegetable basket is the perfect gift for your health conscious (or overweight) friends!\\nNow with super-colorful bell peppers!', '$15.00'), ('Russian Nesting Dolls', 'Hand-painted by trained monkeys, these exquisite dolls are priceless! And by \"priceless,\" we mean \"extremely expensive\"! 8 entire dolls per set! Octuple the presents!', '$10,000.52'), ('Fish Painting', \"If something seems fishy about this painting, it's because it's a fish! Also hand-painted by trained monkeys!\", '$10,005.00'), ('Dead Parrot', \"This is an ex-parrot! Or maybe he's only resting?\", '$0.50'), ('Mystery Box', 'If you love suprises, this mystery box is for you! Do not place on light-colored surfaces. May cause oil staining. Keep your friends guessing!', '$1.50')]\n"
     ]
    }
   ],
   "source": [
    "html_table = zip(col1, col2, col3)\n",
    "print html_table"
   ]
  },
  {
   "cell_type": "markdown",
   "metadata": {},
   "source": [
    "### Creating a simple DataFrame object.\n",
    "\n",
    "The `html_table` object will be passed into the pandas DataFrame function. Instead of zipping the header in with the rest of the columns, I just used the 'columns=' to name them."
   ]
  },
  {
   "cell_type": "code",
   "execution_count": 199,
   "metadata": {
    "collapsed": false
   },
   "outputs": [
    {
     "data": {
      "text/html": [
       "<div>\n",
       "<table border=\"1\" class=\"dataframe\">\n",
       "  <thead>\n",
       "    <tr style=\"text-align: right;\">\n",
       "      <th></th>\n",
       "      <th>Item Title</th>\n",
       "      <th>Description</th>\n",
       "      <th>Cost</th>\n",
       "    </tr>\n",
       "  </thead>\n",
       "  <tbody>\n",
       "    <tr>\n",
       "      <th>0</th>\n",
       "      <td>Vegetable Basket</td>\n",
       "      <td>This vegetable basket is the perfect gift for ...</td>\n",
       "      <td>$15.00</td>\n",
       "    </tr>\n",
       "    <tr>\n",
       "      <th>1</th>\n",
       "      <td>Russian Nesting Dolls</td>\n",
       "      <td>Hand-painted by trained monkeys, these exquisi...</td>\n",
       "      <td>$10,000.52</td>\n",
       "    </tr>\n",
       "    <tr>\n",
       "      <th>2</th>\n",
       "      <td>Fish Painting</td>\n",
       "      <td>If something seems fishy about this painting, ...</td>\n",
       "      <td>$10,005.00</td>\n",
       "    </tr>\n",
       "    <tr>\n",
       "      <th>3</th>\n",
       "      <td>Dead Parrot</td>\n",
       "      <td>This is an ex-parrot! Or maybe he's only resting?</td>\n",
       "      <td>$0.50</td>\n",
       "    </tr>\n",
       "    <tr>\n",
       "      <th>4</th>\n",
       "      <td>Mystery Box</td>\n",
       "      <td>If you love suprises, this mystery box is for ...</td>\n",
       "      <td>$1.50</td>\n",
       "    </tr>\n",
       "  </tbody>\n",
       "</table>\n",
       "</div>"
      ],
      "text/plain": [
       "              Item Title                                        Description  \\\n",
       "0       Vegetable Basket  This vegetable basket is the perfect gift for ...   \n",
       "1  Russian Nesting Dolls  Hand-painted by trained monkeys, these exquisi...   \n",
       "2          Fish Painting  If something seems fishy about this painting, ...   \n",
       "3            Dead Parrot  This is an ex-parrot! Or maybe he's only resting?   \n",
       "4            Mystery Box  If you love suprises, this mystery box is for ...   \n",
       "\n",
       "         Cost  \n",
       "0      $15.00  \n",
       "1  $10,000.52  \n",
       "2  $10,005.00  \n",
       "3       $0.50  \n",
       "4       $1.50  "
      ]
     },
     "execution_count": 199,
     "metadata": {},
     "output_type": "execute_result"
    }
   ],
   "source": [
    "df = DataFrame(data = html_table, columns=['Item Title', 'Description', 'Cost'])\n",
    "df"
   ]
  },
  {
   "cell_type": "code",
   "execution_count": 212,
   "metadata": {
    "collapsed": false
   },
   "outputs": [
    {
     "data": {
      "text/plain": [
       "pandas.core.frame.DataFrame"
      ]
     },
     "execution_count": 212,
     "metadata": {},
     "output_type": "execute_result"
    }
   ],
   "source": [
    "type(df)"
   ]
  },
  {
   "cell_type": "markdown",
   "metadata": {},
   "source": [
    "## Another way to make a dataframe\n",
    "\n",
    "I was running into trouble using BeautifulSoup to get the data I needed, so in my searches for solutions, I found the `html5lib` in the Pandas documentation.  It is not included in your standard Anaconda package, but can easily be installed.\n",
    "\n",
    "With this package, we can simply use the pd.read_html function and pass it the URL:"
   ]
  },
  {
   "cell_type": "code",
   "execution_count": 211,
   "metadata": {
    "collapsed": false
   },
   "outputs": [],
   "source": [
    "table_read = pd.read_html('http://www.pythonscraping.com/pages/page3.html', header=0, index_col=None)"
   ]
  },
  {
   "cell_type": "code",
   "execution_count": 17,
   "metadata": {
    "collapsed": false
   },
   "outputs": [
    {
     "data": {
      "text/html": [
       "<div>\n",
       "<table border=\"1\" class=\"dataframe\">\n",
       "  <thead>\n",
       "    <tr style=\"text-align: right;\">\n",
       "      <th></th>\n",
       "      <th>Item Title</th>\n",
       "      <th>Description</th>\n",
       "      <th>Cost</th>\n",
       "      <th>Image</th>\n",
       "    </tr>\n",
       "  </thead>\n",
       "  <tbody>\n",
       "    <tr>\n",
       "      <th>0</th>\n",
       "      <td>Vegetable Basket</td>\n",
       "      <td>This vegetable basket is the perfect gift for ...</td>\n",
       "      <td>$15.00</td>\n",
       "      <td>NaN</td>\n",
       "    </tr>\n",
       "    <tr>\n",
       "      <th>1</th>\n",
       "      <td>Russian Nesting Dolls</td>\n",
       "      <td>Hand-painted by trained monkeys, these exquisi...</td>\n",
       "      <td>$10,000.52</td>\n",
       "      <td>NaN</td>\n",
       "    </tr>\n",
       "    <tr>\n",
       "      <th>2</th>\n",
       "      <td>Fish Painting</td>\n",
       "      <td>If something seems fishy about this painting, ...</td>\n",
       "      <td>$10,005.00</td>\n",
       "      <td>NaN</td>\n",
       "    </tr>\n",
       "    <tr>\n",
       "      <th>3</th>\n",
       "      <td>Dead Parrot</td>\n",
       "      <td>This is an ex-parrot! Or maybe he's only resting?</td>\n",
       "      <td>$0.50</td>\n",
       "      <td>NaN</td>\n",
       "    </tr>\n",
       "    <tr>\n",
       "      <th>4</th>\n",
       "      <td>Mystery Box</td>\n",
       "      <td>If you love suprises, this mystery box is for ...</td>\n",
       "      <td>$1.50</td>\n",
       "      <td>NaN</td>\n",
       "    </tr>\n",
       "  </tbody>\n",
       "</table>\n",
       "</div>"
      ],
      "text/plain": [
       "              Item Title                                        Description  \\\n",
       "0       Vegetable Basket  This vegetable basket is the perfect gift for ...   \n",
       "1  Russian Nesting Dolls  Hand-painted by trained monkeys, these exquisi...   \n",
       "2          Fish Painting  If something seems fishy about this painting, ...   \n",
       "3            Dead Parrot  This is an ex-parrot! Or maybe he's only resting?   \n",
       "4            Mystery Box  If you love suprises, this mystery box is for ...   \n",
       "\n",
       "         Cost  Image  \n",
       "0      $15.00    NaN  \n",
       "1  $10,000.52    NaN  \n",
       "2  $10,005.00    NaN  \n",
       "3       $0.50    NaN  \n",
       "4       $1.50    NaN  "
      ]
     },
     "execution_count": 17,
     "metadata": {},
     "output_type": "execute_result"
    }
   ],
   "source": [
    "table_read[0]"
   ]
  },
  {
   "cell_type": "code",
   "execution_count": 169,
   "metadata": {
    "collapsed": false
   },
   "outputs": [],
   "source": [
    "df2 = DataFrame(table_read[0])"
   ]
  },
  {
   "cell_type": "code",
   "execution_count": 170,
   "metadata": {
    "collapsed": false
   },
   "outputs": [
    {
     "data": {
      "text/plain": [
       "pandas.core.frame.DataFrame"
      ]
     },
     "execution_count": 170,
     "metadata": {},
     "output_type": "execute_result"
    }
   ],
   "source": [
    "type(df2)"
   ]
  },
  {
   "cell_type": "markdown",
   "metadata": {},
   "source": [
    "Voila! A dataframe object with not much effort. I figured this is not the way we needed to complete the assignment, but thought it was a neat tool to have in the Python/web scraping toolbox."
   ]
  },
  {
   "cell_type": "code",
   "execution_count": 171,
   "metadata": {
    "collapsed": false
   },
   "outputs": [
    {
     "name": "stdout",
     "output_type": "stream",
     "text": [
      "              Item Title                                        Description  \\\n",
      "0       Vegetable Basket  This vegetable basket is the perfect gift for ...   \n",
      "1  Russian Nesting Dolls  Hand-painted by trained monkeys, these exquisi...   \n",
      "2          Fish Painting  If something seems fishy about this painting, ...   \n",
      "3            Dead Parrot  This is an ex-parrot! Or maybe he's only resting?   \n",
      "4            Mystery Box  If you love suprises, this mystery box is for ...   \n",
      "\n",
      "         Cost  Image  \n",
      "0      $15.00    NaN  \n",
      "1  $10,000.52    NaN  \n",
      "2  $10,005.00    NaN  \n",
      "3       $0.50    NaN  \n",
      "4       $1.50    NaN  \n"
     ]
    }
   ],
   "source": [
    "print df2"
   ]
  },
  {
   "cell_type": "code",
   "execution_count": 210,
   "metadata": {
    "collapsed": false
   },
   "outputs": [
    {
     "name": "stdout",
     "output_type": "stream",
     "text": [
      "Int64Index([0, 1, 2, 3, 4], dtype='int64')\n",
      "Index([u'Item Title', u'Description', u'Cost', u'Image'], dtype='object')\n"
     ]
    }
   ],
   "source": [
    "print df2.index\n",
    "print df2.columns"
   ]
  }
 ],
 "metadata": {
  "kernelspec": {
   "display_name": "Python 2",
   "language": "python",
   "name": "python2"
  },
  "language_info": {
   "codemirror_mode": {
    "name": "ipython",
    "version": 2
   },
   "file_extension": ".py",
   "mimetype": "text/x-python",
   "name": "python",
   "nbconvert_exporter": "python",
   "pygments_lexer": "ipython2",
   "version": "2.7.10"
  }
 },
 "nbformat": 4,
 "nbformat_minor": 0
}
